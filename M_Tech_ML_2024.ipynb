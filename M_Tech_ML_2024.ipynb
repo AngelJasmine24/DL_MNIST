{
  "cells": [
    {
      "cell_type": "markdown",
      "metadata": {
        "id": "view-in-github",
        "colab_type": "text"
      },
      "source": [
        "<a href=\"https://colab.research.google.com/github/AngelJasmine24/DL_MNIST/blob/main/M_Tech_ML_2024.ipynb\" target=\"_parent\"><img src=\"https://colab.research.google.com/assets/colab-badge.svg\" alt=\"Open In Colab\"/></a>"
      ]
    },
    {
      "cell_type": "code",
      "execution_count": null,
      "id": "656baf49",
      "metadata": {
        "id": "656baf49"
      },
      "outputs": [],
      "source": [
        "import numpy as np\n",
        "from sklearn.datasets import fetch_openml\n",
        "from sklearn.model_selection import train_test_split\n",
        "from sklearn.preprocessing import LabelBinarizer\n"
      ]
    },
    {
      "cell_type": "code",
      "execution_count": null,
      "id": "df12d7f6",
      "metadata": {
        "id": "df12d7f6"
      },
      "outputs": [],
      "source": [
        "# Load MNIST dataset\n",
        "\n",
        "mnist = fetch_openml('mnist_784', version=1)\n",
        "\n",
        "# Get the data and labels\n",
        "X, y = mnist['data'], mnist['target'].astype(int)\n",
        "\n",
        "# Normalize the data\n",
        "X = X / 255.0  # Scale the pixel values to [0, 1]\n",
        "\n",
        "# Split into training and testing sets\n",
        "X_train, X_test, y_train, y_test = train_test_split(X, y, test_size=0.2, random_state=42)\n"
      ]
    },
    {
      "cell_type": "code",
      "execution_count": null,
      "id": "6ae8d3cd",
      "metadata": {
        "id": "6ae8d3cd"
      },
      "outputs": [],
      "source": [
        "class Perceptron:\n",
        "    def __init__(self, n_features, n_classes, learning_rate=0.01, epochs=10):\n",
        "        self.lr = learning_rate\n",
        "        self.epochs = epochs\n",
        "        self.n_classes = n_classes\n",
        "        self.weights = np.zeros((n_classes, n_features))  # Weight matrix for each class\n",
        "        self.bias = np.zeros(n_classes)  # Bias for each class\n",
        "\n",
        "    def step_function(self, z):\n",
        "        return np.where(z >= 0, 1, 0)\n",
        "\n",
        "    def fit(self, X, y):\n",
        "        for epoch in range(self.epochs):\n",
        "            for i, x in enumerate(X):\n",
        "\n",
        "              #  xi = np.expand_dims(x, axis=0)  # 1D row vector\n",
        "                yi = y[i]\n",
        "\n",
        "                # Calculate linear output for all classes\n",
        "                z = np.dot(self.weights, x.T) + self.bias\n",
        "\n",
        "                # Predicted output\n",
        "                y_pred = np.argmax(z)\n",
        "\n",
        "                # Update weights and bias if misclassified\n",
        "                if y_pred != yi:\n",
        "                    # Subtract weights for incorrect class\n",
        "                    self.weights[y_pred] -= self.lr * x\n",
        "                    self.bias[y_pred] -= self.lr\n",
        "                    # Add weights for correct class\n",
        "                    self.weights[yi] += self.lr * x\n",
        "                    self.bias[yi] += self.lr\n",
        "\n",
        "    def predict(self, X):\n",
        "        z = np.dot(X, self.weights.T) + self.bias\n",
        "        return np.argmax(z, axis=1)\n"
      ]
    },
    {
      "cell_type": "code",
      "execution_count": null,
      "id": "0691e316",
      "metadata": {
        "id": "0691e316"
      },
      "outputs": [],
      "source": [
        "# Binarize the labels (one-vs-all strategy)\n",
        "lb = LabelBinarizer()\n",
        "y_train_bin = lb.fit_transform(y_train)\n",
        "y_test_bin = lb.transform(y_test)\n"
      ]
    },
    {
      "cell_type": "code",
      "source": [
        "X_train = np.array(X_train).astype(float)\n",
        "y_train=np.array(y_train).astype(int)\n",
        "X_test=np.array(X_test).astype(float)"
      ],
      "metadata": {
        "id": "FkLBMBgIgs8C"
      },
      "id": "FkLBMBgIgs8C",
      "execution_count": null,
      "outputs": []
    },
    {
      "cell_type": "code",
      "execution_count": null,
      "id": "e45a3d95",
      "metadata": {
        "id": "e45a3d95"
      },
      "outputs": [],
      "source": [
        "# Number of features (28x28 pixels) and classes (0-9 digits)\n",
        "n_features = X_train.shape[1]\n",
        "n_classes = len(np.unique(y_train))\n",
        "\n",
        "# Initialize the perceptron model\n",
        "perceptron = Perceptron(n_features=n_features, n_classes=n_classes, learning_rate=0.01, epochs=10)\n",
        "\n",
        "# Train the perceptron\n",
        "perceptron.fit(X_train, y_train)\n"
      ]
    },
    {
      "cell_type": "code",
      "execution_count": null,
      "id": "67ed45d9",
      "metadata": {
        "colab": {
          "base_uri": "https://localhost:8080/"
        },
        "id": "67ed45d9",
        "outputId": "5de838a5-7fed-4f08-e427-5d5b5c322374"
      },
      "outputs": [
        {
          "output_type": "stream",
          "name": "stdout",
          "text": [
            "Accuracy on test set: 88.29%\n"
          ]
        }
      ],
      "source": [
        "# Predict on the test set\n",
        "y_pred = perceptron.predict(X_test)\n",
        "\n",
        "# Calculate accuracy\n",
        "accuracy = np.mean(y_pred == y_test)\n",
        "print(f\"Accuracy on test set: {accuracy * 100:.2f}%\")\n"
      ]
    },
    {
      "cell_type": "code",
      "execution_count": null,
      "id": "ccea171c",
      "metadata": {
        "colab": {
          "base_uri": "https://localhost:8080/",
          "height": 466
        },
        "id": "ccea171c",
        "outputId": "d5ed4199-8c7f-4ba3-c29b-dbfdc8a71899"
      },
      "outputs": [
        {
          "output_type": "execute_result",
          "data": {
            "text/plain": [
              "<sklearn.metrics._plot.confusion_matrix.ConfusionMatrixDisplay at 0x7fa7ebe6f970>"
            ]
          },
          "metadata": {},
          "execution_count": 35
        },
        {
          "output_type": "display_data",
          "data": {
            "text/plain": [
              "<Figure size 640x480 with 2 Axes>"
            ],
            "image/png": "[encoded data removed]"
          },
          "metadata": {}
        }
      ],
      "source": [
        "from sklearn.metrics import confusion_matrix, ConfusionMatrixDisplay\n",
        "\n",
        "# Compute confusion matrix\n",
        "cm = confusion_matrix(y_test, y_pred)\n",
        "\n",
        "# Display confusion matrix\n",
        "disp = ConfusionMatrixDisplay(confusion_matrix=cm)\n",
        "disp.plot()\n"
      ]
    },
    {
      "cell_type": "code",
      "execution_count": null,
      "id": "652fe9cd",
      "metadata": {
        "id": "652fe9cd"
      },
      "outputs": [],
      "source": []
    },
    {
      "cell_type": "code",
      "execution_count": null,
      "id": "63b8cc33",
      "metadata": {
        "id": "63b8cc33"
      },
      "outputs": [],
      "source": [
        "import tensorflow as tf\n",
        "from tensorflow.keras import layers, models\n",
        "from tensorflow.keras.preprocessing.text import Tokenizer\n",
        "from tensorflow.keras.preprocessing.sequence import pad_sequences\n",
        "from tensorflow.keras.datasets import imdb\n",
        "import numpy as np\n"
      ]
    },
    {
      "cell_type": "code",
      "execution_count": null,
      "id": "37a7d786",
      "metadata": {
        "id": "37a7d786"
      },
      "outputs": [],
      "source": [
        "# Load the IMDB dataset\n",
        "vocab_size = 10000  # Number of words to consider in the vocabulary\n",
        "\n",
        "(X_train, y_train), (X_test, y_test) = imdb.load_data(num_words=vocab_size)\n",
        "\n",
        "# Check data shape\n",
        "print(f'Training samples: {len(X_train)}, Testing samples: {len(X_test)}')\n"
      ]
    },
    {
      "cell_type": "code",
      "execution_count": null,
      "id": "3e9106b1",
      "metadata": {
        "id": "3e9106b1"
      },
      "outputs": [],
      "source": [
        "# Define maximum review length\n",
        "max_length = 500\n",
        "\n",
        "# Pad sequences to ensure uniform input size\n",
        "X_train = pad_sequences(X_train, maxlen=max_length)\n",
        "X_test = pad_sequences(X_test, maxlen=max_length)\n"
      ]
    },
    {
      "cell_type": "code",
      "execution_count": null,
      "id": "68b2bf72",
      "metadata": {
        "id": "68b2bf72"
      },
      "outputs": [],
      "source": [
        "# Define the neural network model\n",
        "model = models.Sequential()\n",
        "\n",
        "# Embedding layer: maps vocab_size words into 128-dimensional embeddings\n",
        "model.add(layers.Embedding(input_dim=vocab_size, output_dim=128, input_length=max_length))\n",
        "\n",
        "# Optional: Add an LSTM layer for better sequence modeling (you can also use GRU)\n",
        "model.add(layers.LSTM(64, return_sequences=False))\n",
        "\n",
        "# Fully connected layer with 64 units\n",
        "model.add(layers.Dense(64, activation='relu'))\n",
        "\n",
        "# Output layer: single unit with sigmoid activation for binary classification\n",
        "model.add(layers.Dense(1, activation='sigmoid'))\n",
        "\n",
        "# Compile the model\n",
        "model.compile(optimizer='adam', loss='binary_crossentropy', metrics=['accuracy'])\n",
        "\n",
        "# Model summary\n",
        "model.summary()\n"
      ]
    },
    {
      "cell_type": "code",
      "execution_count": null,
      "id": "09023c31",
      "metadata": {
        "id": "09023c31"
      },
      "outputs": [],
      "source": [
        "# Train the model\n",
        "history = model.fit(X_train, y_train, epochs=5, batch_size=64, validation_split=0.2)\n"
      ]
    },
    {
      "cell_type": "code",
      "execution_count": null,
      "id": "824c84c7",
      "metadata": {
        "id": "824c84c7"
      },
      "outputs": [],
      "source": [
        "# Evaluate the model on test data\n",
        "test_loss, test_acc = model.evaluate(X_test, y_test)\n",
        "print(f'Test Accuracy: {test_acc:.4f}')\n"
      ]
    },
    {
      "cell_type": "code",
      "execution_count": null,
      "id": "0a717cb6",
      "metadata": {
        "id": "0a717cb6"
      },
      "outputs": [],
      "source": [
        "import matplotlib.pyplot as plt\n",
        "\n",
        "# Plot training & validation accuracy values\n",
        "plt.plot(history.history['accuracy'])\n",
        "plt.plot(history.history['val_accuracy'])\n",
        "plt.title('Model accuracy')\n",
        "plt.ylabel('Accuracy')\n",
        "plt.xlabel('Epoch')\n",
        "plt.legend(['Train', 'Validation'], loc='upper left')\n",
        "plt.show()\n",
        "\n",
        "# Plot training & validation loss values\n",
        "plt.plot(history.history['loss'])\n",
        "plt.plot(history.history['val_loss'])\n",
        "plt.title('Model loss')\n",
        "plt.ylabel('Loss')\n",
        "plt.xlabel('Epoch')\n",
        "plt.legend(['Train', 'Validation'], loc='upper left')\n",
        "plt.show()\n"
      ]
    },
    {
      "cell_type": "code",
      "execution_count": null,
      "id": "4ae05db2",
      "metadata": {
        "id": "4ae05db2"
      },
      "outputs": [],
      "source": [
        "# Save the model\n",
        "model.save('imdb_review_classifier.h5')\n"
      ]
    },
    {
      "cell_type": "code",
      "execution_count": null,
      "id": "3f0c1a79",
      "metadata": {
        "id": "3f0c1a79"
      },
      "outputs": [],
      "source": []
    },
    {
      "cell_type": "code",
      "execution_count": null,
      "id": "a4a2f5a3",
      "metadata": {
        "id": "a4a2f5a3"
      },
      "outputs": [],
      "source": []
    }
  ],
  "metadata": {
    "kernelspec": {
      "display_name": "Python 3 (ipykernel)",
      "language": "python",
      "name": "python3"
    },
    "language_info": {
      "codemirror_mode": {
        "name": "ipython",
        "version": 3
      },
      "file_extension": ".py",
      "mimetype": "text/x-python",
      "name": "python",
      "nbconvert_exporter": "python",
      "pygments_lexer": "ipython3",
      "version": "3.11.5"
    },
    "colab": {
      "provenance": [],
      "include_colab_link": true
    }
  },
  "nbformat": 4,
  "nbformat_minor": 5
}